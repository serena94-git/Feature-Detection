{
 "cells": [
  {
   "cell_type": "code",
   "execution_count": null,
   "metadata": {},
   "outputs": [],
   "source": [
    "import cv2"
   ]
  },
  {
   "cell_type": "code",
   "execution_count": 2,
   "metadata": {},
   "outputs": [],
   "source": [
    "cv2.__version__\n",
    "import cv2\n",
    "import matplotlib.pyplot as plt\n",
    "import numpy as np\n",
    "import pandas as pd\n",
    "from time import time\n",
    "%matplotlib inline\n",
    "from code import *\n",
    "import random"
   ]
  },
  {
   "cell_type": "code",
   "execution_count": 3,
   "metadata": {},
   "outputs": [],
   "source": [
    "def sp_noise(image,prob):\n",
    "   \n",
    "    output = np.zeros(image.shape,np.uint8)\n",
    "    thres = 1 - prob \n",
    "    for i in range(image.shape[0]):\n",
    "        for j in range(image.shape[1]):\n",
    "            rdn = random.random()\n",
    "            if rdn < prob:\n",
    "                output[i][j] = 0\n",
    "            elif rdn > thres:\n",
    "                output[i][j] = 255\n",
    "            else:\n",
    "                output[i][j] = image[i][j]\n",
    "    return output"
   ]
  },
  {
   "cell_type": "markdown",
   "metadata": {},
   "source": [
    "# CARICAMENTO IMMAGINI"
   ]
  },
  {
   "cell_type": "code",
   "execution_count": 4,
   "metadata": {},
   "outputs": [],
   "source": [
    "im1 = cv2.imread(\"./face1.jpg\")\n",
    "im2 = sp_noise(im1,0.05)"
   ]
  },
  {
   "cell_type": "markdown",
   "metadata": {},
   "source": [
    "# -----------------------------------"
   ]
  },
  {
   "cell_type": "markdown",
   "metadata": {},
   "source": [
    "# 90% di soglia"
   ]
  },
  {
   "cell_type": "code",
   "execution_count": 6,
   "metadata": {},
   "outputs": [
    {
     "name": "stdout",
     "output_type": "stream",
     "text": [
      "Kypoint image1 1429\n",
      "Keypoint image2 15188\n",
      "Match trovati: 1429\n",
      "Good matching soglia 90%: 504\n",
      "Tempo esecuzione: 8.93700098991394\n"
     ]
    }
   ],
   "source": [
    "def cv2_match_SIFT_90(im1, im2):\n",
    "    sift = cv2.xfeatures2d.SIFT_create()\n",
    "    bf = cv2.BFMatcher(cv2.NORM_L1)\n",
    "\n",
    "\n",
    "    kp1, dp1 = sift.detectAndCompute(im1, None)\n",
    "    kp2, dp2 = sift.detectAndCompute(im2, None)\n",
    "    matches_ = bf.knnMatch(dp1, dp2, k=2)\n",
    "    print(\"Kypoint image1\",len(kp1))\n",
    "    print(\"Keypoint image2\",len(kp2))\n",
    "    print(\"Match trovati:\",len(matches_))\n",
    "    good = []\n",
    "    for m, n in matches_:\n",
    "        if m.distance < 0.90 * n.distance:\n",
    "            good.append(m)\n",
    "    \n",
    "    true_matched = len(good)\n",
    "\n",
    "    print(\"Good matching soglia 90%:\",true_matched)\n",
    "    \n",
    "t1 = time()\n",
    "cv2_match_SIFT_90(im1,im2)\n",
    "t2 = time()\n",
    "\n",
    "t3 = t2 - t1 \n",
    "print(\"Tempo esecuzione:\",t3)    "
   ]
  },
  {
   "cell_type": "markdown",
   "metadata": {},
   "source": [
    "# Soglia 80% (come paper)"
   ]
  },
  {
   "cell_type": "code",
   "execution_count": 7,
   "metadata": {},
   "outputs": [
    {
     "name": "stdout",
     "output_type": "stream",
     "text": [
      "Kypoint image1 1429\n",
      "Keypoint image2 15188\n",
      "Match trovati: 1429\n",
      "Good matching soglia 80%: 297\n",
      "Tempo esecuzione: 9.151998043060303\n"
     ]
    }
   ],
   "source": [
    "def cv2_match_SIFT(im1, im2):\n",
    "    sift = cv2.xfeatures2d.SIFT_create()\n",
    "    bf = cv2.BFMatcher(cv2.NORM_L1)\n",
    "\n",
    "\n",
    "    kp1, dp1 = sift.detectAndCompute(im1, None)\n",
    "    kp2, dp2 = sift.detectAndCompute(im2, None)\n",
    "    matches_ = bf.knnMatch(dp1, dp2, k=2)\n",
    "    print(\"Kypoint image1\",len(kp1))\n",
    "    print(\"Keypoint image2\",len(kp2))\n",
    "    print(\"Match trovati:\",len(matches_))\n",
    "    good = []\n",
    "    for m, n in matches_:\n",
    "        if m.distance < 0.80 * n.distance:\n",
    "            good.append(m)\n",
    "    \n",
    "    true_matched = len(good)\n",
    "\n",
    "    print(\"Good matching soglia 80%:\",true_matched)\n",
    "    \n",
    "t1 = time()\n",
    "cv2_match_SIFT(im1,im2)\n",
    "t2 = time()\n",
    "\n",
    "t3 = t2 - t1 \n",
    "print(\"Tempo esecuzione:\",t3)  "
   ]
  },
  {
   "cell_type": "markdown",
   "metadata": {},
   "source": [
    "# ---------------------------"
   ]
  },
  {
   "cell_type": "markdown",
   "metadata": {},
   "source": [
    "# Metodo tradizionale senza valutazione della distanza"
   ]
  },
  {
   "cell_type": "code",
   "execution_count": 12,
   "metadata": {},
   "outputs": [
    {
     "name": "stdout",
     "output_type": "stream",
     "text": [
      "\n",
      "Matching Keypoints:  1224\n",
      "\n",
      "Tempo esecuzione 8.840986967086792\n"
     ]
    }
   ],
   "source": [
    "def sift_normal(im1,im2):    \n",
    "    sift = cv2.xfeatures2d.SIFT_create()\n",
    "\n",
    "    train_keypoints, train_descriptor = sift.detectAndCompute(im1, None)\n",
    "    test_keypoints, test_descriptor = sift.detectAndCompute(im2, None)\n",
    "\n",
    "    keypoints_without_size = np.copy(im1)\n",
    "    keypoints_with_size = np.copy(im1)\n",
    "\n",
    "\n",
    "    # Print the number of keypoints detected in the training image\n",
    "    #print(\"Number of Keypoints Detected In The Training Image: \", len(train_keypoints))\n",
    "    kp1 = len(train_keypoints)\n",
    "\n",
    "    # Print the number of keypoints detected in the query image\n",
    "    #print(\"Number of Keypoints Detected In The Query Image: \", len(test_keypoints))\n",
    "    kp2 = len(test_keypoints)\n",
    "\n",
    "    # Create a Brute Force Matcher object.\n",
    "    bf = cv2.BFMatcher(cv2.NORM_L1, crossCheck = True)\n",
    "\n",
    "    # Perform the matching between the SIFT descriptors of the training image and the test image\n",
    "    matches = bf.match(train_descriptor, test_descriptor)\n",
    "    # The matches with shorter distance are the ones we want.\n",
    "    #for\n",
    "    matches = sorted(matches, key = lambda x : x.distance)\n",
    "\n",
    "    matche = len(matches)\n",
    "\n",
    "\n",
    "    # Print total number of matching points between the training and query images\n",
    "    print(\"\\nMatching Keypoints: \", len(matches))\n",
    "ti = time()\n",
    "sift_normal(im1,im2)\n",
    "tf = time()\n",
    "tt = tf - ti\n",
    "print(\"\\nTempo esecuzione\",tt)"
   ]
  },
  {
   "cell_type": "code",
   "execution_count": null,
   "metadata": {},
   "outputs": [],
   "source": []
  }
 ],
 "metadata": {
  "kernelspec": {
   "display_name": "Python 3",
   "language": "python",
   "name": "python3"
  },
  "language_info": {
   "codemirror_mode": {
    "name": "ipython",
    "version": 3
   },
   "file_extension": ".py",
   "mimetype": "text/x-python",
   "name": "python",
   "nbconvert_exporter": "python",
   "pygments_lexer": "ipython3",
   "version": "3.6.7"
  }
 },
 "nbformat": 4,
 "nbformat_minor": 2
}
