{
 "cells": [
  {
   "cell_type": "code",
   "execution_count": 1,
   "metadata": {},
   "outputs": [
    {
     "name": "stderr",
     "output_type": "stream",
     "text": [
      "Using TensorFlow backend.\n"
     ]
    }
   ],
   "source": [
    "import pandas as pd\n",
    "import numpy as np\n",
    "import os, shutil\n",
    "from keras.models import Sequential\n",
    "from keras.layers import Conv2D, MaxPooling2D, Dense, Activation, Flatten, Dropout, GlobalAveragePooling2D\n",
    "from keras.preprocessing.image import ImageDataGenerator\n",
    "from keras import optimizers\n",
    "import sklearn\n",
    "from sklearn.model_selection import train_test_split, GridSearchCV\n",
    "from sklearn.svm import LinearSVC\n",
    "from keras.applications import VGG16\n",
    "from sklearn.metrics import accuracy_score"
   ]
  },
  {
   "cell_type": "code",
   "execution_count": 2,
   "metadata": {},
   "outputs": [],
   "source": [
    "original_dataset_dir=\"./set_close_360\""
   ]
  },
  {
   "cell_type": "code",
   "execution_count": 3,
   "metadata": {},
   "outputs": [],
   "source": [
    "base_dir = \"./t4\""
   ]
  },
  {
   "cell_type": "code",
   "execution_count": 10,
   "metadata": {},
   "outputs": [
    {
     "name": "stdout",
     "output_type": "stream",
     "text": [
      "WARNING:tensorflow:From C:\\Users\\Hebatallah\\Anaconda3\\lib\\site-packages\\keras\\backend\\tensorflow_backend.py:4070: The name tf.nn.max_pool is deprecated. Please use tf.nn.max_pool2d instead.\n",
      "\n",
      "Downloading data from https://github.com/fchollet/deep-learning-models/releases/download/v0.1/vgg16_weights_tf_dim_ordering_tf_kernels_notop.h5\n",
      "58892288/58889256 [==============================] - 8s 0us/step\n",
      "Model: \"vgg16\"\n",
      "_________________________________________________________________\n",
      "Layer (type)                 Output Shape              Param #   \n",
      "=================================================================\n",
      "input_1 (InputLayer)         (None, 150, 150, 3)       0         \n",
      "_________________________________________________________________\n",
      "block1_conv1 (Conv2D)        (None, 150, 150, 64)      1792      \n",
      "_________________________________________________________________\n",
      "block1_conv2 (Conv2D)        (None, 150, 150, 64)      36928     \n",
      "_________________________________________________________________\n",
      "block1_pool (MaxPooling2D)   (None, 75, 75, 64)        0         \n",
      "_________________________________________________________________\n",
      "block2_conv1 (Conv2D)        (None, 75, 75, 128)       73856     \n",
      "_________________________________________________________________\n",
      "block2_conv2 (Conv2D)        (None, 75, 75, 128)       147584    \n",
      "_________________________________________________________________\n",
      "block2_pool (MaxPooling2D)   (None, 37, 37, 128)       0         \n",
      "_________________________________________________________________\n",
      "block3_conv1 (Conv2D)        (None, 37, 37, 256)       295168    \n",
      "_________________________________________________________________\n",
      "block3_conv2 (Conv2D)        (None, 37, 37, 256)       590080    \n",
      "_________________________________________________________________\n",
      "block3_conv3 (Conv2D)        (None, 37, 37, 256)       590080    \n",
      "_________________________________________________________________\n",
      "block3_pool (MaxPooling2D)   (None, 18, 18, 256)       0         \n",
      "_________________________________________________________________\n",
      "block4_conv1 (Conv2D)        (None, 18, 18, 512)       1180160   \n",
      "_________________________________________________________________\n",
      "block4_conv2 (Conv2D)        (None, 18, 18, 512)       2359808   \n",
      "_________________________________________________________________\n",
      "block4_conv3 (Conv2D)        (None, 18, 18, 512)       2359808   \n",
      "_________________________________________________________________\n",
      "block4_pool (MaxPooling2D)   (None, 9, 9, 512)         0         \n",
      "_________________________________________________________________\n",
      "block5_conv1 (Conv2D)        (None, 9, 9, 512)         2359808   \n",
      "_________________________________________________________________\n",
      "block5_conv2 (Conv2D)        (None, 9, 9, 512)         2359808   \n",
      "_________________________________________________________________\n",
      "block5_conv3 (Conv2D)        (None, 9, 9, 512)         2359808   \n",
      "_________________________________________________________________\n",
      "block5_pool (MaxPooling2D)   (None, 4, 4, 512)         0         \n",
      "=================================================================\n",
      "Total params: 14,714,688\n",
      "Trainable params: 14,714,688\n",
      "Non-trainable params: 0\n",
      "_________________________________________________________________\n"
     ]
    }
   ],
   "source": [
    "conv_base = VGG16(weights = 'imagenet',\n",
    "                  include_top = False,\n",
    "                  input_shape = (150,150,3))\n",
    "conv_base.summary()"
   ]
  },
  {
   "cell_type": "code",
   "execution_count": 14,
   "metadata": {},
   "outputs": [],
   "source": [
    "from keras import layers\n",
    "from keras import models\n",
    "from keras.utils import to_categorical\n",
    "import matplotlib.pyplot as plt\n",
    "import os\n",
    "import cv2 as cv\n",
    "import cv2\n",
    "import numpy as np\n",
    "from keras.preprocessing.image import ImageDataGenerator\n",
    "from keras.applications import InceptionV3\n",
    "from keras.models import Sequential\n",
    "from keras.layers import Dense, Flatten, Dropout\n",
    "from keras import optimizers, regularizers\n",
    "import glob"
   ]
  },
  {
   "cell_type": "code",
   "execution_count": 15,
   "metadata": {},
   "outputs": [],
   "source": [
    "train_fruit_images = []\n",
    "train_fruit_labels = [] \n",
    "for directory_path in glob.glob(\"./set_close_360/*\"):\n",
    "    fruit_label = directory_path.split(\"\\\\\")[-1]\n",
    "    for img_path in glob.glob(os.path.join(directory_path, \"*.jpg\")):\n",
    "        img = cv2.imread(img_path, cv2.IMREAD_COLOR)       \n",
    "        img = cv2.resize(img, (227, 227))\n",
    "        img = cv2.cvtColor(img, cv2.COLOR_RGB2BGR)\n",
    "        train_fruit_images.append(img)\n",
    "        train_fruit_labels.append(fruit_label)\n",
    "train_fruit_images = np.array(train_fruit_images)\n",
    "train_fruit_labels = np.array(train_fruit_labels)"
   ]
  },
  {
   "cell_type": "code",
   "execution_count": 16,
   "metadata": {},
   "outputs": [],
   "source": [
    "label_to_id = {v:i for i,v in enumerate(np.unique(train_fruit_labels))}\n",
    "id_to_label = {v: k for k, v in label_to_id.items()}\n",
    "train_label_ids = np.array([label_to_id[x] for x in train_fruit_labels])\n"
   ]
  },
  {
   "cell_type": "code",
   "execution_count": 17,
   "metadata": {},
   "outputs": [
    {
     "data": {
      "text/plain": [
       "((353, 227, 227, 3), (353,), (353,))"
      ]
     },
     "execution_count": 17,
     "metadata": {},
     "output_type": "execute_result"
    }
   ],
   "source": [
    "train_fruit_images.shape, train_label_ids.shape, train_fruit_labels.shape"
   ]
  },
  {
   "cell_type": "code",
   "execution_count": 21,
   "metadata": {},
   "outputs": [],
   "source": [
    "# test\n",
    "test_fruit_images = []\n",
    "test_fruit_labels = [] \n",
    "for directory_path in glob.glob(\"./val/*\"):\n",
    "    fruit_label = directory_path.split(\"\\\\\")[-1]\n",
    "    for img_path in glob.glob(os.path.join(directory_path, \"*.jpg\")):\n",
    "        img = cv2.imread(img_path, cv2.IMREAD_COLOR)\n",
    "        \n",
    "        img = cv2.resize(img, (227, 227))\n",
    "        img = cv2.cvtColor(img, cv2.COLOR_RGB2BGR)\n",
    "        \n",
    "        test_fruit_images.append(img)\n",
    "        test_fruit_labels.append(fruit_label)\n",
    "test_fruit_images = np.array(test_fruit_images)\n",
    "test_fruit_labels = np.array(test_fruit_labels)"
   ]
  },
  {
   "cell_type": "code",
   "execution_count": 22,
   "metadata": {},
   "outputs": [],
   "source": [
    "test_label_ids = np.array([label_to_id[x] for x in test_fruit_labels])"
   ]
  },
  {
   "cell_type": "code",
   "execution_count": 23,
   "metadata": {},
   "outputs": [
    {
     "data": {
      "text/plain": [
       "((79, 227, 227, 3), (79,))"
      ]
     },
     "execution_count": 23,
     "metadata": {},
     "output_type": "execute_result"
    }
   ],
   "source": [
    "test_fruit_images.shape, test_label_ids.shape"
   ]
  },
  {
   "cell_type": "code",
   "execution_count": 24,
   "metadata": {},
   "outputs": [
    {
     "name": "stdout",
     "output_type": "stream",
     "text": [
      "(353, 227, 227, 3) (353,) (79, 227, 227, 3) (79,) 5\n"
     ]
    }
   ],
   "source": [
    "x_train, y_train, x_test, y_test, N_CATEGORY =train_fruit_images,train_fruit_labels,test_fruit_images,test_fruit_labels,len(label_to_id)\n",
    "\n",
    "print(x_train.shape, y_train.shape, x_test.shape, y_test.shape, N_CATEGORY)"
   ]
  },
  {
   "cell_type": "code",
   "execution_count": 27,
   "metadata": {},
   "outputs": [],
   "source": [
    "from sklearn.preprocessing import LabelBinarizer"
   ]
  },
  {
   "cell_type": "code",
   "execution_count": 28,
   "metadata": {},
   "outputs": [],
   "source": [
    "\n",
    "\n",
    "X_normalized = np.array(x_train / 255.0 - 0.5 )\n",
    "X_normalized_test = np.array(x_test / 255.0 - 0.5 )\n",
    "\n",
    "label_binarizer = LabelBinarizer()\n",
    "y_one_hot = label_binarizer.fit_transform(y_train)\n",
    "y_one_hot_test = label_binarizer.fit_transform(y_test)"
   ]
  },
  {
   "cell_type": "code",
   "execution_count": 41,
   "metadata": {},
   "outputs": [
    {
     "name": "stdout",
     "output_type": "stream",
     "text": [
      "Model: \"sequential_6\"\n",
      "_________________________________________________________________\n",
      "Layer (type)                 Output Shape              Param #   \n",
      "=================================================================\n",
      "flatten_4 (Flatten)          (None, 154587)            0         \n",
      "_________________________________________________________________\n",
      "dense_9 (Dense)              (None, 256)               39574528  \n",
      "_________________________________________________________________\n",
      "dropout_4 (Dropout)          (None, 256)               0         \n",
      "_________________________________________________________________\n",
      "dense_10 (Dense)             (None, 5)                 1285      \n",
      "=================================================================\n",
      "Total params: 39,575,813\n",
      "Trainable params: 39,575,813\n",
      "Non-trainable params: 0\n",
      "_________________________________________________________________\n"
     ]
    }
   ],
   "source": [
    "model = Sequential()\n",
    "model.add(Flatten(input_shape=(227,227,3)))\n",
    "model.add(Dense(256, activation='relu'))\n",
    "model.add(Dropout(0.5))\n",
    "model.add(Dense(5, activation='sigmoid'))\n",
    "model.summary()\n",
    "\n"
   ]
  },
  {
   "cell_type": "code",
   "execution_count": 42,
   "metadata": {},
   "outputs": [
    {
     "name": "stdout",
     "output_type": "stream",
     "text": [
      "Train on 353 samples, validate on 79 samples\n",
      "Epoch 1/15\n",
      "353/353 [==============================] - 7s 21ms/step - loss: 10.2647 - acc: 0.7654 - val_loss: 4.1455 - val_acc: 0.8608\n",
      "Epoch 2/15\n",
      "353/353 [==============================] - 7s 20ms/step - loss: 5.0656 - acc: 0.8380 - val_loss: 2.6479 - val_acc: 0.8709\n",
      "Epoch 3/15\n",
      "353/353 [==============================] - 7s 19ms/step - loss: 1.8969 - acc: 0.8584 - val_loss: 2.3910 - val_acc: 0.8658\n",
      "Epoch 4/15\n",
      "353/353 [==============================] - 7s 20ms/step - loss: 1.4387 - acc: 0.8771 - val_loss: 1.9646 - val_acc: 0.8810\n",
      "Epoch 5/15\n",
      "353/353 [==============================] - 7s 20ms/step - loss: 1.0093 - acc: 0.8742 - val_loss: 1.6692 - val_acc: 0.8684\n",
      "Epoch 6/15\n",
      "353/353 [==============================] - 7s 20ms/step - loss: 0.8184 - acc: 0.8844 - val_loss: 1.4361 - val_acc: 0.8835\n",
      "Epoch 7/15\n",
      "353/353 [==============================] - 7s 20ms/step - loss: 0.6380 - acc: 0.8907 - val_loss: 1.6918 - val_acc: 0.8962\n",
      "Epoch 8/15\n",
      "353/353 [==============================] - 7s 20ms/step - loss: 0.6838 - acc: 0.8924 - val_loss: 1.5093 - val_acc: 0.8734\n",
      "Epoch 9/15\n",
      "353/353 [==============================] - 7s 20ms/step - loss: 0.7309 - acc: 0.9025 - val_loss: 2.4260 - val_acc: 0.8835\n",
      "Epoch 10/15\n",
      "353/353 [==============================] - 7s 20ms/step - loss: 0.6390 - acc: 0.8952 - val_loss: 1.6853 - val_acc: 0.8861\n",
      "Epoch 11/15\n",
      "353/353 [==============================] - 7s 20ms/step - loss: 0.7597 - acc: 0.9037 - val_loss: 2.7168 - val_acc: 0.8937\n",
      "Epoch 12/15\n",
      "353/353 [==============================] - 7s 20ms/step - loss: 0.7721 - acc: 0.9020 - val_loss: 1.6793 - val_acc: 0.8759\n",
      "Epoch 13/15\n",
      "353/353 [==============================] - 7s 20ms/step - loss: 0.7254 - acc: 0.9003 - val_loss: 1.8561 - val_acc: 0.8785\n",
      "Epoch 14/15\n",
      "353/353 [==============================] - 7s 20ms/step - loss: 0.6410 - acc: 0.9071 - val_loss: 3.0978 - val_acc: 0.8734\n",
      "Epoch 15/15\n",
      "353/353 [==============================] - 7s 20ms/step - loss: 0.5872 - acc: 0.9003 - val_loss: 2.3310 - val_acc: 0.8734\n"
     ]
    }
   ],
   "source": [
    "model.compile(optimizer=optimizers.Adam(),\n",
    "              loss='binary_crossentropy',\n",
    "              metrics=['acc'])\n",
    "\n",
    "# Train model using features extracted\n",
    "history = model.fit(X_normalized, y_one_hot,\n",
    "                    epochs=15,\n",
    "                    batch_size=15,\n",
    "                    validation_data=(X_normalized_test,y_one_hot_test))"
   ]
  },
  {
   "cell_type": "code",
   "execution_count": 43,
   "metadata": {},
   "outputs": [
    {
     "data": {
      "image/png": "[encoded data removed]",
      "text/plain": [
       "<Figure size 432x288 with 1 Axes>"
      ]
     },
     "metadata": {
      "needs_background": "light"
     },
     "output_type": "display_data"
    },
    {
     "data": {
      "image/png": "[encoded data removed]",
      "text/plain": [
       "<Figure size 432x288 with 1 Axes>"
      ]
     },
     "metadata": {
      "needs_background": "light"
     },
     "output_type": "display_data"
    }
   ],
   "source": [
    "acc = history.history['acc']\n",
    "val_acc = history.history['val_acc']\n",
    "loss = history.history['loss']\n",
    "val_loss = history.history['val_loss']\n",
    "\n",
    "epochs = range(len(acc))\n",
    "import matplotlib.pyplot as plt\n",
    "plt.plot(epochs, acc, 'bo', label='Training acc')\n",
    "plt.plot(epochs, val_acc, 'b', label='Validation acc')\n",
    "plt.title('Training and validation accuracy')\n",
    "plt.legend()\n",
    "\n",
    "plt.figure()\n",
    "\n",
    "plt.plot(epochs, loss, 'bo', label='Training loss')\n",
    "plt.plot(epochs, val_loss, 'b', label='Validation loss')\n",
    "plt.title('Training and validation loss')\n",
    "plt.legend()\n",
    "\n",
    "plt.show()"
   ]
  },
  {
   "cell_type": "markdown",
   "metadata": {},
   "source": [
    "# SECONDA RETE"
   ]
  },
  {
   "cell_type": "code",
   "execution_count": 44,
   "metadata": {},
   "outputs": [
    {
     "name": "stdout",
     "output_type": "stream",
     "text": [
      "Model: \"sequential_7\"\n",
      "_________________________________________________________________\n",
      "Layer (type)                 Output Shape              Param #   \n",
      "=================================================================\n",
      "global_average_pooling2d_3 ( (None, 3)                 0         \n",
      "_________________________________________________________________\n",
      "dense_11 (Dense)             (None, 5)                 20        \n",
      "=================================================================\n",
      "Total params: 20\n",
      "Trainable params: 20\n",
      "Non-trainable params: 0\n",
      "_________________________________________________________________\n"
     ]
    }
   ],
   "source": [
    "model2 = Sequential()\n",
    "model2.add(GlobalAveragePooling2D(input_shape=(227,227,3)))\n",
    "model2.add(Dense(5, activation='sigmoid'))\n",
    "model2.summary()"
   ]
  },
  {
   "cell_type": "code",
   "execution_count": 45,
   "metadata": {},
   "outputs": [
    {
     "name": "stdout",
     "output_type": "stream",
     "text": [
      "Train on 353 samples, validate on 79 samples\n",
      "Epoch 1/15\n",
      "353/353 [==============================] - 7s 21ms/step - loss: 1.3171 - acc: 0.8839 - val_loss: 3.0731 - val_acc: 0.8759\n",
      "Epoch 2/15\n",
      "353/353 [==============================] - 7s 20ms/step - loss: 1.1888 - acc: 0.8873 - val_loss: 3.0932 - val_acc: 0.8658\n",
      "Epoch 3/15\n",
      "353/353 [==============================] - 7s 20ms/step - loss: 1.0758 - acc: 0.8810 - val_loss: 2.5984 - val_acc: 0.8633\n",
      "Epoch 4/15\n",
      "353/353 [==============================] - 7s 19ms/step - loss: 1.0450 - acc: 0.8907 - val_loss: 2.7487 - val_acc: 0.8911\n",
      "Epoch 5/15\n",
      "353/353 [==============================] - 7s 20ms/step - loss: 0.9917 - acc: 0.9054 - val_loss: 3.1216 - val_acc: 0.8810\n",
      "Epoch 6/15\n",
      "353/353 [==============================] - 7s 20ms/step - loss: 0.8005 - acc: 0.9037 - val_loss: 3.1753 - val_acc: 0.9089\n",
      "Epoch 7/15\n",
      "353/353 [==============================] - 7s 20ms/step - loss: 0.6075 - acc: 0.9144 - val_loss: 2.2839 - val_acc: 0.8911\n",
      "Epoch 8/15\n",
      "353/353 [==============================] - 7s 20ms/step - loss: 0.4747 - acc: 0.9173 - val_loss: 2.4525 - val_acc: 0.8759\n",
      "Epoch 9/15\n",
      "353/353 [==============================] - 7s 20ms/step - loss: 0.4986 - acc: 0.9048 - val_loss: 3.0614 - val_acc: 0.8911\n",
      "Epoch 10/15\n",
      "353/353 [==============================] - 7s 20ms/step - loss: 0.7243 - acc: 0.9093 - val_loss: 2.4155 - val_acc: 0.8886\n",
      "Epoch 11/15\n",
      "353/353 [==============================] - 7s 20ms/step - loss: 0.4725 - acc: 0.9201 - val_loss: 1.9172 - val_acc: 0.8987\n",
      "Epoch 12/15\n",
      "353/353 [==============================] - 7s 20ms/step - loss: 0.4596 - acc: 0.9065 - val_loss: 1.8213 - val_acc: 0.8886\n",
      "Epoch 13/15\n",
      "353/353 [==============================] - 7s 20ms/step - loss: 1.2567 - acc: 0.9008 - val_loss: 4.6453 - val_acc: 0.8759\n",
      "Epoch 14/15\n",
      "353/353 [==============================] - 7s 20ms/step - loss: 0.7471 - acc: 0.9156 - val_loss: 4.9944 - val_acc: 0.8987\n",
      "Epoch 15/15\n",
      "353/353 [==============================] - 7s 20ms/step - loss: 0.7745 - acc: 0.9076 - val_loss: 4.4417 - val_acc: 0.8734\n"
     ]
    }
   ],
   "source": [
    "model.compile(optimizer=optimizers.Adam(),\n",
    "              loss='binary_crossentropy',\n",
    "              metrics=['acc'])\n",
    "\n",
    "# Train model using features extracted\n",
    "history = model.fit(X_normalized, y_one_hot,\n",
    "                    epochs=15,\n",
    "                    batch_size=15,\n",
    "                    validation_data=(X_normalized_test,y_one_hot_test))"
   ]
  },
  {
   "cell_type": "code",
   "execution_count": 46,
   "metadata": {},
   "outputs": [
    {
     "data": {
      "image/png": "[encoded data removed]",
      "text/plain": [
       "<Figure size 432x288 with 1 Axes>"
      ]
     },
     "metadata": {
      "needs_background": "light"
     },
     "output_type": "display_data"
    },
    {
     "data": {
      "image/png": "[encoded data removed]",
      "text/plain": [
       "<Figure size 432x288 with 1 Axes>"
      ]
     },
     "metadata": {
      "needs_background": "light"
     },
     "output_type": "display_data"
    }
   ],
   "source": [
    "acc = history.history['acc']\n",
    "val_acc = history.history['val_acc']\n",
    "loss = history.history['loss']\n",
    "val_loss = history.history['val_loss']\n",
    "\n",
    "epochs = range(len(acc))\n",
    "import matplotlib.pyplot as plt\n",
    "plt.plot(epochs, acc, 'bo', label='Training acc')\n",
    "plt.plot(epochs, val_acc, 'b', label='Validation acc')\n",
    "plt.title('Training and validation accuracy')\n",
    "plt.legend()\n",
    "\n",
    "plt.figure()\n",
    "\n",
    "plt.plot(epochs, loss, 'bo', label='Training loss')\n",
    "plt.plot(epochs, val_loss, 'b', label='Validation loss')\n",
    "plt.title('Training and validation loss')\n",
    "plt.legend()\n",
    "\n",
    "plt.show()"
   ]
  },
  {
   "cell_type": "markdown",
   "metadata": {},
   "source": [
    "# TERZA RETE\n"
   ]
  },
  {
   "cell_type": "code",
   "execution_count": 50,
   "metadata": {},
   "outputs": [
    {
     "name": "stdout",
     "output_type": "stream",
     "text": [
      "Model: \"vgg16\"\n",
      "_________________________________________________________________\n",
      "Layer (type)                 Output Shape              Param #   \n",
      "=================================================================\n",
      "input_3 (InputLayer)         (None, 227, 227, 3)       0         \n",
      "_________________________________________________________________\n",
      "block1_conv1 (Conv2D)        (None, 227, 227, 64)      1792      \n",
      "_________________________________________________________________\n",
      "block1_conv2 (Conv2D)        (None, 227, 227, 64)      36928     \n",
      "_________________________________________________________________\n",
      "block1_pool (MaxPooling2D)   (None, 113, 113, 64)      0         \n",
      "_________________________________________________________________\n",
      "block2_conv1 (Conv2D)        (None, 113, 113, 128)     73856     \n",
      "_________________________________________________________________\n",
      "block2_conv2 (Conv2D)        (None, 113, 113, 128)     147584    \n",
      "_________________________________________________________________\n",
      "block2_pool (MaxPooling2D)   (None, 56, 56, 128)       0         \n",
      "_________________________________________________________________\n",
      "block3_conv1 (Conv2D)        (None, 56, 56, 256)       295168    \n",
      "_________________________________________________________________\n",
      "block3_conv2 (Conv2D)        (None, 56, 56, 256)       590080    \n",
      "_________________________________________________________________\n",
      "block3_conv3 (Conv2D)        (None, 56, 56, 256)       590080    \n",
      "_________________________________________________________________\n",
      "block3_pool (MaxPooling2D)   (None, 28, 28, 256)       0         \n",
      "_________________________________________________________________\n",
      "block4_conv1 (Conv2D)        (None, 28, 28, 512)       1180160   \n",
      "_________________________________________________________________\n",
      "block4_conv2 (Conv2D)        (None, 28, 28, 512)       2359808   \n",
      "_________________________________________________________________\n",
      "block4_conv3 (Conv2D)        (None, 28, 28, 512)       2359808   \n",
      "_________________________________________________________________\n",
      "block4_pool (MaxPooling2D)   (None, 14, 14, 512)       0         \n",
      "_________________________________________________________________\n",
      "block5_conv1 (Conv2D)        (None, 14, 14, 512)       2359808   \n",
      "_________________________________________________________________\n",
      "block5_conv2 (Conv2D)        (None, 14, 14, 512)       2359808   \n",
      "_________________________________________________________________\n",
      "block5_conv3 (Conv2D)        (None, 14, 14, 512)       2359808   \n",
      "_________________________________________________________________\n",
      "block5_pool (MaxPooling2D)   (None, 7, 7, 512)         0         \n",
      "=================================================================\n",
      "Total params: 14,714,688\n",
      "Trainable params: 14,714,688\n",
      "Non-trainable params: 0\n",
      "_________________________________________________________________\n"
     ]
    }
   ],
   "source": [
    "conv_base = VGG16(weights = 'imagenet',\n",
    "                  include_top = False,\n",
    "                  input_shape = (227,227,3))\n",
    "conv_base.summary()"
   ]
  },
  {
   "cell_type": "code",
   "execution_count": 51,
   "metadata": {},
   "outputs": [
    {
     "name": "stdout",
     "output_type": "stream",
     "text": [
      "Model: \"sequential_9\"\n",
      "_________________________________________________________________\n",
      "Layer (type)                 Output Shape              Param #   \n",
      "=================================================================\n",
      "vgg16 (Model)                (None, 7, 7, 512)         14714688  \n",
      "_________________________________________________________________\n",
      "flatten_6 (Flatten)          (None, 25088)             0         \n",
      "_________________________________________________________________\n",
      "dense_14 (Dense)             (None, 256)               6422784   \n",
      "_________________________________________________________________\n",
      "dense_15 (Dense)             (None, 5)                 1285      \n",
      "=================================================================\n",
      "Total params: 21,138,757\n",
      "Trainable params: 21,138,757\n",
      "Non-trainable params: 0\n",
      "_________________________________________________________________\n"
     ]
    }
   ],
   "source": [
    "model = models.Sequential()\n",
    "model.add(conv_base)\n",
    "model.add(Flatten())\n",
    "model.add(Dense(256, activation = 'relu'))\n",
    "model.add(Dense(5, activation = 'sigmoid'))\n",
    "model.summary()"
   ]
  },
  {
   "cell_type": "code",
   "execution_count": null,
   "metadata": {},
   "outputs": [
    {
     "name": "stdout",
     "output_type": "stream",
     "text": [
      "Train on 353 samples, validate on 79 samples\n",
      "Epoch 1/15\n",
      "353/353 [==============================] - 295s 836ms/step - loss: 1.2399 - acc: 0.7728 - val_loss: 0.4973 - val_acc: 0.8000\n",
      "Epoch 2/15\n",
      "353/353 [==============================] - 328s 928ms/step - loss: 0.4525 - acc: 0.8051 - val_loss: 0.4050 - val_acc: 0.8000\n",
      "Epoch 3/15\n",
      "353/353 [==============================] - 299s 846ms/step - loss: 0.3666 - acc: 0.8555 - val_loss: 0.2824 - val_acc: 0.8810\n",
      "Epoch 4/15\n",
      "353/353 [==============================] - 311s 882ms/step - loss: 0.2659 - acc: 0.8935 - val_loss: 0.3088 - val_acc: 0.8886\n",
      "Epoch 5/15\n",
      "195/353 [===============>..............] - ETA: 2:08 - loss: 0.2225 - acc: 0.9067"
     ]
    }
   ],
   "source": [
    "\n",
    "\n",
    "model.compile(optimizer=optimizers.Adam(),\n",
    "              loss='binary_crossentropy',\n",
    "              metrics=['acc'])\n",
    "\n",
    "\n",
    "history = model.fit(X_normalized, y_one_hot,\n",
    "                    epochs=15,\n",
    "                    batch_size=15,\n",
    "                    validation_data=(X_normalized_test,y_one_hot_test))"
   ]
  },
  {
   "cell_type": "code",
   "execution_count": null,
   "metadata": {},
   "outputs": [],
   "source": []
  }
 ],
 "metadata": {
  "kernelspec": {
   "display_name": "Python 3",
   "language": "python",
   "name": "python3"
  },
  "language_info": {
   "codemirror_mode": {
    "name": "ipython",
    "version": 3
   },
   "file_extension": ".py",
   "mimetype": "text/x-python",
   "name": "python",
   "nbconvert_exporter": "python",
   "pygments_lexer": "ipython3",
   "version": "3.7.4"
  }
 },
 "nbformat": 4,
 "nbformat_minor": 2
}
